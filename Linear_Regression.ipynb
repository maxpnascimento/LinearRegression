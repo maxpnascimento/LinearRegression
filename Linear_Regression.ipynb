{
  "nbformat": 4,
  "nbformat_minor": 0,
  "metadata": {
    "colab": {
      "name": "Linear Regression.ipynb",
      "provenance": []
    },
    "kernelspec": {
      "name": "python3",
      "display_name": "Python 3"
    },
    "language_info": {
      "name": "python"
    }
  },
  "cells": [
    {
      "cell_type": "markdown",
      "metadata": {
        "id": "rEfjprltOPdX"
      },
      "source": [
        "# **Regression Linear Model**\n",
        "--------------------------------------------------------------------------------\n",
        "This is a simple example of a linear regression model.\n",
        "\n",
        "___\n",
        "author: Max Nascimento\n",
        "\n",
        "linkedin: linkedin.com/in/max-nascimento-4b19ba109\n",
        "\n",
        "email: maxpnascimento@gmail.com\n",
        "\n",
        "gitHub: https://github.com/maxpnascimento"
      ]
    },
    {
      "cell_type": "markdown",
      "metadata": {
        "id": "y8HT0NWPOP5F"
      },
      "source": [
        "Libraries\n",
        "----------------------------------------------------"
      ]
    },
    {
      "cell_type": "code",
      "metadata": {
        "id": "G8ZJ94HCKyJ0"
      },
      "source": [
        "import numpy as np\n",
        "import matplotlib.pyplot as plt\n",
        "from sklearn.linear_model import LinearRegression"
      ],
      "execution_count": 1,
      "outputs": []
    },
    {
      "cell_type": "markdown",
      "metadata": {
        "id": "5BlyO5LyP__2"
      },
      "source": [
        "Data\n",
        "--------------------------------------------"
      ]
    },
    {
      "cell_type": "code",
      "metadata": {
        "colab": {
          "base_uri": "https://localhost:8080/",
          "height": 265
        },
        "id": "hVBd7uuHK9BJ",
        "outputId": "e9675a3d-1af3-452c-f6b4-c55653f9b9d7"
      },
      "source": [
        "X = np.array([[-1], [0], [1], [2],[3], [4], [5], [6], [7], [8], [9], [10]])\n",
        "Y = np.array([0.3, 1.3, 1.2, 2.4, 2.5, 3.7, 3.4, 4.2, 4.5, 5, 5.1, 6.3])\n",
        "\n",
        "plt.figure(1)\n",
        "plt.plot(X, Y, 'o')\n",
        "plt.show()"
      ],
      "execution_count": 2,
      "outputs": [
        {
          "output_type": "display_data",
          "data": {
            "image/png": "[encoded data removed]",
            "text/plain": [
              "<Figure size 432x288 with 1 Axes>"
            ]
          },
          "metadata": {
            "tags": [],
            "needs_background": "light"
          }
        }
      ]
    },
    {
      "cell_type": "markdown",
      "metadata": {
        "id": "7hMDCGkUQQT4"
      },
      "source": [
        "Model\n",
        "------------------------------------------------------\n"
      ]
    },
    {
      "cell_type": "code",
      "metadata": {
        "id": "VJCsZ5xCM4lv"
      },
      "source": [
        "model = LinearRegression()"
      ],
      "execution_count": 3,
      "outputs": []
    },
    {
      "cell_type": "markdown",
      "metadata": {
        "id": "mY7u-3IYQbgB"
      },
      "source": [
        "Model Training\n",
        "-----------------------------------------------\n"
      ]
    },
    {
      "cell_type": "code",
      "metadata": {
        "colab": {
          "base_uri": "https://localhost:8080/"
        },
        "id": "XqlLDsXDNI4Q",
        "outputId": "dea9d607-d056-410e-e837-579d421e7a34"
      },
      "source": [
        "model.fit(X,Y)"
      ],
      "execution_count": 4,
      "outputs": [
        {
          "output_type": "execute_result",
          "data": {
            "text/plain": [
              "LinearRegression(copy_X=True, fit_intercept=True, n_jobs=None, normalize=False)"
            ]
          },
          "metadata": {
            "tags": []
          },
          "execution_count": 4
        }
      ]
    },
    {
      "cell_type": "markdown",
      "metadata": {
        "id": "B9B-ylFPQg_Q"
      },
      "source": [
        "Test and visualization\n",
        "----------------------------------------------------------\n"
      ]
    },
    {
      "cell_type": "code",
      "metadata": {
        "colab": {
          "base_uri": "https://localhost:8080/",
          "height": 265
        },
        "id": "GLc3BOtANPpm",
        "outputId": "eca50d7a-311c-464c-b3c8-c528e217e072"
      },
      "source": [
        "reg = model.predict(X)\n",
        "\n",
        "plt.figure(1)\n",
        "plt.plot(X, Y, 'o')\n",
        "plt.plot(reg)\n",
        "plt.show()"
      ],
      "execution_count": 5,
      "outputs": [
        {
          "output_type": "display_data",
          "data": {
            "image/png": "[encoded data removed]",
            "text/plain": [
              "<Figure size 432x288 with 1 Axes>"
            ]
          },
          "metadata": {
            "tags": [],
            "needs_background": "light"
          }
        }
      ]
    }
  ]
}